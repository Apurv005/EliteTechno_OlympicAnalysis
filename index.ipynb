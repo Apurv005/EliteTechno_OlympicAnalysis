{
  "nbformat": 4,
  "nbformat_minor": 0,
  "metadata": {
    "colab": {
      "name": "index.ipynb",
      "provenance": [],
      "collapsed_sections": []
    },
    "kernelspec": {
      "name": "python3",
      "display_name": "Python 3"
    },
    "language_info": {
      "name": "python"
    }
  },
  "cells": [
    {
      "cell_type": "markdown",
      "metadata": {
        "id": "ZEDuLmYJ9EsJ"
      },
      "source": [
        "##**Summer Olympics Data Analysis Assignment**"
      ]
    },
    {
      "cell_type": "markdown",
      "metadata": {
        "id": "vNt4IRYH2iY1"
      },
      "source": [
        "## Problem 1: In how many cities summer olympic is held so far?"
      ]
    },
    {
      "cell_type": "code",
      "metadata": {
        "colab": {
          "base_uri": "https://localhost:8080/"
        },
        "id": "DfIATmvRxELO",
        "outputId": "6f15145b-1122-4e38-c0eb-c0b7b8f3a355"
      },
      "source": [
        "import pandas as pd\n",
        "df = pd.read_csv(\"summer.csv\", encoding = \"ISO-8859-1\")\n",
        "df.drop(['Discipline'],axis = 1)\n",
        "print(df['City'].unique())\n",
        "print(\"Total Cities: \",len(df['City'].unique()))"
      ],
      "execution_count": 9,
      "outputs": [
        {
          "output_type": "stream",
          "name": "stdout",
          "text": [
            "['Athens' 'Paris' 'St Louis' 'London' 'Stockholm' 'Antwerp' 'Amsterdam'\n",
            " 'Los Angeles' 'Berlin' 'Helsinki' 'Melbourne / Stockholm' 'Rome' 'Tokyo'\n",
            " 'Mexico' 'Munich' 'Montreal' 'Moscow' 'Seoul' 'Barcelona' 'Atlanta'\n",
            " 'Sydney' 'Beijing']\n",
            "Total Cities:  22\n"
          ]
        }
      ]
    },
    {
      "cell_type": "markdown",
      "metadata": {
        "id": "20rFXSGR2UCN"
      },
      "source": [
        "## Problem 2: Which sports is having most number of gold medels so far?"
      ]
    },
    {
      "cell_type": "code",
      "metadata": {
        "colab": {
          "base_uri": "https://localhost:8080/",
          "height": 400
        },
        "id": "lJDjggjt0w7q",
        "outputId": "d54dcaf1-ab62-4885-9278-10455b0ca498"
      },
      "source": [
        "len(df[df['Medal'] == \"Gold\"])\n",
        "df2 = df[df['Medal'] == \"Gold\"]\n",
        "df2.groupby('Sport').count()['Medal'].sort_values(ascending = False).head().plot.bar(figsize = (10,5))\n",
        "len(df2)"
      ],
      "execution_count": 2,
      "outputs": [
        {
          "output_type": "execute_result",
          "data": {
            "text/plain": [
              "10486"
            ]
          },
          "metadata": {},
          "execution_count": 2
        },
        {
          "output_type": "display_data",
          "data": {
            "image/png": "[encoded data removed]",
            "text/plain": [
              "<Figure size 720x360 with 1 Axes>"
            ]
          },
          "metadata": {
            "needs_background": "light"
          }
        }
      ]
    },
    {
      "cell_type": "markdown",
      "metadata": {
        "id": "GQLUpp4TB35R"
      },
      "source": [
        "## Problem 3: Which sport is having most number of medals so far?"
      ]
    },
    {
      "cell_type": "code",
      "metadata": {
        "colab": {
          "base_uri": "https://localhost:8080/",
          "height": 400
        },
        "id": "3uXId5CHCXSN",
        "outputId": "2088eb1b-3cfb-470c-e008-2e8e3558d66f"
      },
      "source": [
        "df.groupby('Sport').count()['Medal'].sort_values(ascending = False).head().plot.bar(figsize = (10,5))"
      ],
      "execution_count": 3,
      "outputs": [
        {
          "output_type": "execute_result",
          "data": {
            "text/plain": [
              "<matplotlib.axes._subplots.AxesSubplot at 0x7f3917feca90>"
            ]
          },
          "metadata": {},
          "execution_count": 3
        },
        {
          "output_type": "display_data",
          "data": {
            "image/png": "[encoded data removed]",
            "text/plain": [
              "<Figure size 720x360 with 1 Axes>"
            ]
          },
          "metadata": {
            "needs_background": "light"
          }
        }
      ]
    },
    {
      "cell_type": "code",
      "metadata": {
        "id": "XuTjjatQEnJR"
      },
      "source": [
        ""
      ],
      "execution_count": null,
      "outputs": []
    },
    {
      "cell_type": "markdown",
      "metadata": {
        "id": "7TSQEkbu7fi6"
      },
      "source": [
        "## Problem 4: Which player has won most number of medals?"
      ]
    },
    {
      "cell_type": "code",
      "metadata": {
        "colab": {
          "base_uri": "https://localhost:8080/",
          "height": 459
        },
        "id": "3g7GrWhc8BWJ",
        "outputId": "52475daf-1201-413a-8a79-9bf146c16e7a"
      },
      "source": [
        "df.groupby('Athlete').count()['Medal'].sort_values(ascending = False).head().plot.bar(figsize = (10,5))"
      ],
      "execution_count": 4,
      "outputs": [
        {
          "output_type": "execute_result",
          "data": {
            "text/plain": [
              "<matplotlib.axes._subplots.AxesSubplot at 0x7f391809cb90>"
            ]
          },
          "metadata": {},
          "execution_count": 4
        },
        {
          "output_type": "display_data",
          "data": {
            "image/png": "[encoded data removed]",
            "text/plain": [
              "<Figure size 720x360 with 1 Axes>"
            ]
          },
          "metadata": {
            "needs_background": "light"
          }
        }
      ]
    },
    {
      "cell_type": "markdown",
      "metadata": {
        "id": "JkxcN6AaeCqG"
      },
      "source": [
        "## Problem 5: Which player has won most number of Gold Medals ?"
      ]
    },
    {
      "cell_type": "code",
      "metadata": {
        "colab": {
          "base_uri": "https://localhost:8080/",
          "height": 427
        },
        "id": "rSb1E6HjfifF",
        "outputId": "a83ac6f0-f45d-4446-ea31-b8d16985ef73"
      },
      "source": [
        "df3 = df[df['Medal'] == \"Gold\"]\n",
        "df3.groupby('Athlete').count()['Medal'].sort_values(ascending = False).head().plot.bar(figsize = (10,5))"
      ],
      "execution_count": 5,
      "outputs": [
        {
          "output_type": "execute_result",
          "data": {
            "text/plain": [
              "<matplotlib.axes._subplots.AxesSubplot at 0x7f3918007e10>"
            ]
          },
          "metadata": {},
          "execution_count": 5
        },
        {
          "output_type": "display_data",
          "data": {
            "image/png": "[encoded data removed]",
            "text/plain": [
              "<Figure size 720x360 with 1 Axes>"
            ]
          },
          "metadata": {
            "needs_background": "light"
          }
        }
      ]
    },
    {
      "cell_type": "markdown",
      "metadata": {
        "id": "t9shYosJ9dYm"
      },
      "source": [
        "## Problem 6: In which year india won first Gold Medal in summer olympics?"
      ]
    },
    {
      "cell_type": "code",
      "metadata": {
        "colab": {
          "base_uri": "https://localhost:8080/"
        },
        "id": "EZTLzEL592X_",
        "outputId": "db242f3d-6815-4a8a-f145-a56bb35192af"
      },
      "source": [
        "lst = []\n",
        "df2 = df[df['Country'] == 'IND']\n",
        "gMedal = df2[df2['Medal'] == 'Gold']\n",
        "for year in gMedal['Year'].unique():\n",
        "  lst.append(year)\n",
        "lst.sort()\n",
        "print(\"India Won First Gold Medal On :\",lst[0])"
      ],
      "execution_count": 6,
      "outputs": [
        {
          "output_type": "stream",
          "name": "stdout",
          "text": [
            "India Won First Gold Medal On : 1928\n"
          ]
        }
      ]
    },
    {
      "cell_type": "markdown",
      "metadata": {
        "id": "zhusKh9VkDH3"
      },
      "source": [
        "## Problem 7: Which event is most popular in terms on number of player?"
      ]
    },
    {
      "cell_type": "code",
      "metadata": {
        "colab": {
          "base_uri": "https://localhost:8080/",
          "height": 432
        },
        "id": "eiQCXI1tkQYg",
        "outputId": "fcbbc3e1-254d-42fe-b85f-0086f3996033"
      },
      "source": [
        "eventList = []\n",
        "for event in df['Event'].unique():\n",
        "  eventList.append([event,len(df[df['Event'] == event])])\n",
        "eventList = pd.DataFrame(eventList,columns=[\"Event\",\"Total_Player\"])\n",
        "eventList = eventList.sort_values(by=\"Total_Player\",ascending=False).head()\n",
        "eventList.plot(x = 'Event', y = 'Total_Player', kind = \"bar\",figsize = (10,5))"
      ],
      "execution_count": 7,
      "outputs": [
        {
          "output_type": "execute_result",
          "data": {
            "text/plain": [
              "<matplotlib.axes._subplots.AxesSubplot at 0x7f3917aa6bd0>"
            ]
          },
          "metadata": {},
          "execution_count": 7
        },
        {
          "output_type": "display_data",
          "data": {
            "image/png": "[encoded data removed]",
            "text/plain": [
              "<Figure size 720x360 with 1 Axes>"
            ]
          },
          "metadata": {
            "needs_background": "light"
          }
        }
      ]
    },
    {
      "cell_type": "markdown",
      "metadata": {
        "id": "5RYBK2oum0U3"
      },
      "source": [
        "## Problem 8: Which Sport is having most number of female gold medalists ?"
      ]
    },
    {
      "cell_type": "code",
      "metadata": {
        "colab": {
          "base_uri": "https://localhost:8080/",
          "height": 400
        },
        "id": "IDAfzZtLnFPA",
        "outputId": "3e197fe5-31af-45fe-e5db-20bc8f2a0dc9"
      },
      "source": [
        "women = df[df['Gender'] == 'Women']\n",
        "wGold = women[women['Medal'] == 'Gold']\n",
        "wGold.groupby('Sport').count()['Medal'].sort_values(ascending = False).head().plot.bar(figsize = (10,5))"
      ],
      "execution_count": 8,
      "outputs": [
        {
          "output_type": "execute_result",
          "data": {
            "text/plain": [
              "<matplotlib.axes._subplots.AxesSubplot at 0x7f39179b8890>"
            ]
          },
          "metadata": {},
          "execution_count": 8
        },
        {
          "output_type": "display_data",
          "data": {
            "image/png": "[encoded data removed]",
            "text/plain": [
              "<Figure size 720x360 with 1 Axes>"
            ]
          },
          "metadata": {
            "needs_background": "light"
          }
        }
      ]
    },
    {
      "cell_type": "code",
      "metadata": {
        "id": "w5GyYBUxnKvK"
      },
      "source": [
        ""
      ],
      "execution_count": null,
      "outputs": []
    }
  ]
}